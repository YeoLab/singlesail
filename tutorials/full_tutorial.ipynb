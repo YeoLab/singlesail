{
 "metadata": {
  "name": "",
  "signature": "sha256:1093343fbfe673c4bc79ad455a01a657056755d048d0b5a8abd45a22f11cd574"
 },
 "nbformat": 3,
 "nbformat_minor": 0,
 "worksheets": [
  {
   "cells": [
    {
     "cell_type": "markdown",
     "metadata": {
      "slideshow": {
       "slide_type": "slide"
      }
     },
     "source": [
      "# Single cell data analysis\n",
      "\n",
      "* Olga Botvinnik\n",
      "* 2nd year Bioinformatics Graduate Student\n",
      "* Gene Yeo Laboratory\n",
      "* [obotvinn@ucsd.edu](mailto:obotvinn@ucsd.edu)\n",
      "* Twitter: [@olgabot](https://twitter.com/olgabot)\n",
      "* April 9th, 2014"
     ]
    },
    {
     "cell_type": "markdown",
     "metadata": {
      "slideshow": {
       "slide_type": "slide"
      }
     },
     "source": [
      "# What do we talk about when we talk about single cell data?\n",
      "\n",
      "* Quality control (QC)\n",
      "* Subpopulations & Heterogeneity"
     ]
    },
    {
     "cell_type": "markdown",
     "metadata": {
      "slideshow": {
       "slide_type": "fragment"
      }
     },
     "source": [
      "Today we'll talk about what's currently available to use in `popeye` for QC.\n",
      "\n",
      "Just an FYI, the audience of this package is people who are willing to do some coding. Developing a point-and-click graphical user interface (GUI) would be awesome, but that takes a lot of development time and I'm only one person."
     ]
    },
    {
     "cell_type": "markdown",
     "metadata": {
      "slideshow": {
       "slide_type": "fragment"
      }
     },
     "source": [
      "All the features shown today are available through the Python package `popeye`, available at http://github.com/YeoLab/popeye\n",
      "\n",
      "<!--![Popeye the sailor man](files/popeye.gif)-->\n",
      "<!--Image source: http://www.hellomaltatours.com/Media/hellomaltatours/images/Popeye1.gif-->\n",
      "\n",
      "![Popeye the sailor man](files/popeye_wallpaper_small.jpeg)\n",
      "\n",
      "Image source: http://hdwallpapersrc.com/wp-content/uploads/2014/03/201401171226397053_Popeye.jpg "
     ]
    },
    {
     "cell_type": "markdown",
     "metadata": {
      "slideshow": {
       "slide_type": "subslide"
      }
     },
     "source": [
      "# Why should I use `popeye` when Fluidigm already makes `SingulaR`?\n",
      "\n",
      "`popeye` has several advantages over `SingulaR`\n",
      "\n",
      "* **Open source**: This means that source code of the program, the protocol if you will, can be read and changed by ANYONE on the planet. Anyone can edit it, modify it, and change it to do exactly the analyses they need. Contrast that with Fluidigm's `Singular`: If you have a feature request or question, you have to contact Fluidigm and hope that they add it, rather than being able to do it yourself.\n",
      "    * Another awesome thing about open source is *community*. With open-source software, you're working together with hundreds of other people across the world to advance science.\n",
      "* **Python**: The Python language is extremely easy to use. The original author of the Python language had the keen insight that \"code is read far more often than it is written.\" I have strived to make this package not just easy to use, but easy to understand what's happening under the hood. On that note, please let me know if anything is unclear.\n",
      "* **Developed right here in SCRM**: If you have any issues getting `popeye` to run, or have an idea for a cool new feature, you can come bother me! I'm just outside the elevator on the third floor, at the standing desk with the nucleotides and computer engineer Barbie"
     ]
    },
    {
     "cell_type": "markdown",
     "metadata": {
      "slideshow": {
       "slide_type": "slide"
      }
     },
     "source": [
      "# What do we talk about when we talk about single cell data?\n",
      "\n",
      "* **Quality control (QC)**\n",
      "* Subpopulations & Heterogeneity"
     ]
    },
    {
     "cell_type": "markdown",
     "metadata": {
      "slideshow": {
       "slide_type": "slide"
      }
     },
     "source": [
      "## What is \"Quality control?\"\n",
      "\n",
      "To us, quality control means the following questions:\n",
      "\n",
      "* Did the experiment fail in any cells? (if so, exclude them)\n",
      "* How does sequencing depth influence gene expression/splicing event detection?\n",
      "* What are the outliers?"
     ]
    },
    {
     "cell_type": "markdown",
     "metadata": {
      "slideshow": {
       "slide_type": "slide"
      }
     },
     "source": [
      "#### The data: Single-cell motor neuron differentiation\n",
      "\n",
      "Induced pluripotent cells (iPSCs) --> Neural Progenitor cells (NPCs) --> Motor Neurons (MNs)\n",
      "\n",
      "Plus some stressed motor neurons.\n",
      "\n",
      "![Motor Neuron Differentiation](files/mn_differentiation_overview.svg)"
     ]
    },
    {
     "cell_type": "markdown",
     "metadata": {
      "slideshow": {
       "slide_type": "subslide"
      }
     },
     "source": [
      "### Did the experiment fail in any cells?\n",
      "\n",
      "Well, let's take a look at the mapping stats first."
     ]
    },
    {
     "cell_type": "code",
     "collapsed": false,
     "input": [
      "# Import the single-cell analysis module\n",
      "import popeye\n",
      "\n",
      "# Load motor neuron differentiation data\n",
      "# Mike: \"...\" means some kind of input that I haven't written yet.\n",
      "# There's no output of these cells because I haven't implemented it yet\n",
      "motor_neuron_diff = popeye.Study(...)\n",
      "\n",
      "motor_neuron_diff.mapping_stats()"
     ],
     "language": "python",
     "metadata": {},
     "outputs": []
    },
    {
     "cell_type": "markdown",
     "metadata": {
      "slideshow": {
       "slide_type": "subslide"
      }
     },
     "source": [
      "What about the distribution of low- or high-RPKM expression?"
     ]
    },
    {
     "cell_type": "code",
     "collapsed": false,
     "input": [
      "motor_neuron_diff.rpkm_saturation()"
     ],
     "language": "python",
     "metadata": {
      "slideshow": {
       "slide_type": "-"
      }
     },
     "outputs": [
      {
       "ename": "NameError",
       "evalue": "name 'motor_neuron_diff' is not defined",
       "output_type": "pyerr",
       "traceback": [
        "\u001b[0;31m---------------------------------------------------------------------------\u001b[0m\n\u001b[0;31mNameError\u001b[0m                                 Traceback (most recent call last)",
        "\u001b[0;32m<ipython-input-1-4f358930da5c>\u001b[0m in \u001b[0;36m<module>\u001b[0;34m()\u001b[0m\n\u001b[0;32m----> 1\u001b[0;31m \u001b[0mmotor_neuron_diff\u001b[0m\u001b[0;34m.\u001b[0m\u001b[0mrpkm_saturation\u001b[0m\u001b[0;34m(\u001b[0m\u001b[0;34m)\u001b[0m\u001b[0;34m\u001b[0m\u001b[0m\n\u001b[0m",
        "\u001b[0;31mNameError\u001b[0m: name 'motor_neuron_diff' is not defined"
       ]
      }
     ],
     "prompt_number": 1
    },
    {
     "cell_type": "markdown",
     "metadata": {
      "slideshow": {
       "slide_type": "subslide"
      }
     },
     "source": [
      "So let's set those crappy cells as removed from our analysis."
     ]
    },
    {
     "cell_type": "code",
     "collapsed": false,
     "input": [
      "motor_neuron_diff.set_bad_samples(['P3_01', ....])"
     ],
     "language": "python",
     "metadata": {},
     "outputs": []
    },
    {
     "cell_type": "markdown",
     "metadata": {},
     "source": [
      "Potentially, this could be automated, but that will be in version 2 :) <br>\n",
      "Until then, we'll trust our user to be smart enough to point out the bad samples on their own."
     ]
    },
    {
     "cell_type": "markdown",
     "metadata": {
      "slideshow": {
       "slide_type": "subslide"
      }
     },
     "source": [
      "### How does sequencing depth affect gene expression/splicing event detection?"
     ]
    },
    {
     "cell_type": "code",
     "collapsed": false,
     "input": [
      "motor_neuron_diff.mapping_vs_expression()"
     ],
     "language": "python",
     "metadata": {},
     "outputs": []
    },
    {
     "cell_type": "code",
     "collapsed": false,
     "input": [
      "motor_neuron_diff.mapping_vs_splicing()"
     ],
     "language": "python",
     "metadata": {},
     "outputs": []
    },
    {
     "cell_type": "markdown",
     "metadata": {
      "slideshow": {
       "slide_type": "subslide"
      }
     },
     "source": [
      "### What are the outliers?\n",
      "\n",
      "Now that we've removed the bad cells from our analysis, we can detect cells that are outliers. Meaning, cells that are labeled as being from population X but their gene expression or splicing makes them look like they're from population Y.\n",
      "\n",
      "For example, in our data, some of the Motor Neurons don't look fully differentiated from the gene expression data. So let's find them."
     ]
    },
    {
     "cell_type": "code",
     "collapsed": false,
     "input": [
      "motor_neuron_diff.detect_outliers()"
     ],
     "language": "python",
     "metadata": {
      "slideshow": {
       "slide_type": "subslide"
      }
     },
     "outputs": []
    },
    {
     "cell_type": "markdown",
     "metadata": {},
     "source": [
      "Looks like cells (....) are outliers, as shown on this PCA plot. PCA plots are a way of transforming the 30,000-dimensional gene expression space to a plottable 2d representation, based on variation in gene expression."
     ]
    },
    {
     "cell_type": "markdown",
     "metadata": {},
     "source": [
      "# What is \"Heterogeneity?\"\n",
      "\n",
      "Heterogeneity is after all, why we do single cell analysis in the first place. Given a population of cells, how are they the same and how are they different? What gene expression or splicing events define these differences?\n",
      "\n"
     ]
    },
    {
     "cell_type": "code",
     "collapsed": false,
     "input": [
      "motor_neuron_diff.pca()"
     ],
     "language": "python",
     "metadata": {},
     "outputs": []
    },
    {
     "cell_type": "code",
     "collapsed": false,
     "input": [
      "motor_neuron_diff.jsd()"
     ],
     "language": "python",
     "metadata": {},
     "outputs": []
    },
    {
     "cell_type": "code",
     "collapsed": false,
     "input": [
      "motor_neuron_diff.detect_bimodal_expression()"
     ],
     "language": "python",
     "metadata": {},
     "outputs": []
    },
    {
     "cell_type": "code",
     "collapsed": false,
     "input": [
      "motor_neuron_diff.detect_bimodal_splicing()"
     ],
     "language": "python",
     "metadata": {},
     "outputs": []
    },
    {
     "cell_type": "code",
     "collapsed": false,
     "input": [],
     "language": "python",
     "metadata": {},
     "outputs": []
    },
    {
     "cell_type": "markdown",
     "metadata": {
      "slideshow": {
       "slide_type": "slide"
      }
     },
     "source": [
      "* Olga Botvinnik\n",
      "* 2nd year Bioinformatics Graduate Student\n",
      "* Gene Yeo Laboratory\n",
      "* [obotvinn@ucsd.edu](mailto:obotvinn@ucsd.edu)\n",
      "* Twitter: [@olgabot](https://twitter.com/olgabot)\n",
      "* http://github.com/YeoLab/popeye\n",
      "\n",
      "![Popeye the sailor man](files/popeye_wallpaper_small.jpeg)"
     ]
    }
   ],
   "metadata": {}
  }
 ]
}